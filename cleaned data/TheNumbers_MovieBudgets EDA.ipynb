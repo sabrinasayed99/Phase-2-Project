{
 "cells": [
  {
   "cell_type": "code",
   "execution_count": 1,
   "id": "30c7c326-2958-4de1-8c00-51425f4f96ae",
   "metadata": {},
   "outputs": [],
   "source": [
    "import pandas as pd\n",
    "import sqlite3"
   ]
  },
  {
   "cell_type": "code",
   "execution_count": 5,
   "id": "c86fc432-1285-49a1-aaee-4fe87fcc5e9a",
   "metadata": {},
   "outputs": [
    {
     "data": {
      "text/html": [
       "<div>\n",
       "<style scoped>\n",
       "    .dataframe tbody tr th:only-of-type {\n",
       "        vertical-align: middle;\n",
       "    }\n",
       "\n",
       "    .dataframe tbody tr th {\n",
       "        vertical-align: top;\n",
       "    }\n",
       "\n",
       "    .dataframe thead th {\n",
       "        text-align: right;\n",
       "    }\n",
       "</style>\n",
       "<table border=\"1\" class=\"dataframe\">\n",
       "  <thead>\n",
       "    <tr style=\"text-align: right;\">\n",
       "      <th></th>\n",
       "      <th>id</th>\n",
       "      <th>release_date</th>\n",
       "      <th>movie</th>\n",
       "      <th>production_budget</th>\n",
       "      <th>domestic_gross</th>\n",
       "      <th>worldwide_gross</th>\n",
       "    </tr>\n",
       "  </thead>\n",
       "  <tbody>\n",
       "    <tr>\n",
       "      <th>0</th>\n",
       "      <td>1</td>\n",
       "      <td>Dec 18, 2009</td>\n",
       "      <td>Avatar</td>\n",
       "      <td>$425,000,000</td>\n",
       "      <td>$760,507,625</td>\n",
       "      <td>$2,776,345,279</td>\n",
       "    </tr>\n",
       "    <tr>\n",
       "      <th>1</th>\n",
       "      <td>2</td>\n",
       "      <td>May 20, 2011</td>\n",
       "      <td>Pirates of the Caribbean: On Stranger Tides</td>\n",
       "      <td>$410,600,000</td>\n",
       "      <td>$241,063,875</td>\n",
       "      <td>$1,045,663,875</td>\n",
       "    </tr>\n",
       "    <tr>\n",
       "      <th>2</th>\n",
       "      <td>3</td>\n",
       "      <td>Jun 7, 2019</td>\n",
       "      <td>Dark Phoenix</td>\n",
       "      <td>$350,000,000</td>\n",
       "      <td>$42,762,350</td>\n",
       "      <td>$149,762,350</td>\n",
       "    </tr>\n",
       "    <tr>\n",
       "      <th>3</th>\n",
       "      <td>4</td>\n",
       "      <td>May 1, 2015</td>\n",
       "      <td>Avengers: Age of Ultron</td>\n",
       "      <td>$330,600,000</td>\n",
       "      <td>$459,005,868</td>\n",
       "      <td>$1,403,013,963</td>\n",
       "    </tr>\n",
       "    <tr>\n",
       "      <th>4</th>\n",
       "      <td>5</td>\n",
       "      <td>Dec 15, 2017</td>\n",
       "      <td>Star Wars Ep. VIII: The Last Jedi</td>\n",
       "      <td>$317,000,000</td>\n",
       "      <td>$620,181,382</td>\n",
       "      <td>$1,316,721,747</td>\n",
       "    </tr>\n",
       "  </tbody>\n",
       "</table>\n",
       "</div>"
      ],
      "text/plain": [
       "   id  release_date                                        movie  \\\n",
       "0   1  Dec 18, 2009                                       Avatar   \n",
       "1   2  May 20, 2011  Pirates of the Caribbean: On Stranger Tides   \n",
       "2   3   Jun 7, 2019                                 Dark Phoenix   \n",
       "3   4   May 1, 2015                      Avengers: Age of Ultron   \n",
       "4   5  Dec 15, 2017            Star Wars Ep. VIII: The Last Jedi   \n",
       "\n",
       "  production_budget domestic_gross worldwide_gross  \n",
       "0      $425,000,000   $760,507,625  $2,776,345,279  \n",
       "1      $410,600,000   $241,063,875  $1,045,663,875  \n",
       "2      $350,000,000    $42,762,350    $149,762,350  \n",
       "3      $330,600,000   $459,005,868  $1,403,013,963  \n",
       "4      $317,000,000   $620,181,382  $1,316,721,747  "
      ]
     },
     "execution_count": 5,
     "metadata": {},
     "output_type": "execute_result"
    }
   ],
   "source": [
    "df = pd.read_csv('tn.movie_budgets.csv.gz')\n",
    "df.head()"
   ]
  },
  {
   "cell_type": "code",
   "execution_count": 7,
   "id": "f7915e6a-c288-47b2-99d6-9bdc1a7e338c",
   "metadata": {},
   "outputs": [
    {
     "name": "stdout",
     "output_type": "stream",
     "text": [
      "<class 'pandas.core.frame.DataFrame'>\n",
      "RangeIndex: 5782 entries, 0 to 5781\n",
      "Data columns (total 6 columns):\n",
      " #   Column             Non-Null Count  Dtype \n",
      "---  ------             --------------  ----- \n",
      " 0   id                 5782 non-null   int64 \n",
      " 1   release_date       5782 non-null   object\n",
      " 2   movie              5782 non-null   object\n",
      " 3   production_budget  5782 non-null   object\n",
      " 4   domestic_gross     5782 non-null   object\n",
      " 5   worldwide_gross    5782 non-null   object\n",
      "dtypes: int64(1), object(5)\n",
      "memory usage: 271.2+ KB\n"
     ]
    }
   ],
   "source": [
    "df.info()"
   ]
  },
  {
   "cell_type": "code",
   "execution_count": 11,
   "id": "bc0cd77e-6842-4fb1-af45-8909761d9f76",
   "metadata": {},
   "outputs": [],
   "source": [
    "df['release_date'] = pd.to_datetime(df['release_date'])"
   ]
  },
  {
   "cell_type": "code",
   "execution_count": 15,
   "id": "fa174ae6-2018-4c02-b7b8-51d1a7ee3670",
   "metadata": {},
   "outputs": [],
   "source": [
    "df['production_budget'] = df['production_budget'].str.strip('$')"
   ]
  },
  {
   "cell_type": "code",
   "execution_count": 31,
   "id": "6815819b-9318-48e0-b4b5-97bedc4e250c",
   "metadata": {},
   "outputs": [],
   "source": [
    "df['production_budget'] = df['production_budget'].str.replace(',', '', regex=True).astype(float)"
   ]
  },
  {
   "cell_type": "code",
   "execution_count": 37,
   "id": "0747ef96-bf31-47ec-825e-e8b4aac8cba5",
   "metadata": {},
   "outputs": [],
   "source": [
    "df['production_budget'] = df['production_budget'].astype(int)"
   ]
  },
  {
   "cell_type": "code",
   "execution_count": 39,
   "id": "4adaf7b2-01ec-4690-964a-3325363270fe",
   "metadata": {},
   "outputs": [],
   "source": [
    "df['domestic_gross'] = df['domestic_gross'].str.strip('$')"
   ]
  },
  {
   "cell_type": "code",
   "execution_count": 41,
   "id": "fed13c9e-bbbf-4a5e-9b5c-36464ff3465f",
   "metadata": {},
   "outputs": [],
   "source": [
    "df['domestic_gross'] = df['domestic_gross'].str.replace(',', '', regex=True).astype(int)"
   ]
  },
  {
   "cell_type": "code",
   "execution_count": 43,
   "id": "c0cbb385-4383-46ec-8647-c12261e7ec4d",
   "metadata": {},
   "outputs": [],
   "source": [
    "df['worldwide_gross'] = df['worldwide_gross'].str.strip('$')"
   ]
  },
  {
   "cell_type": "code",
   "execution_count": 45,
   "id": "8cfe6a34-21a8-491b-ac01-3fe05147dd7d",
   "metadata": {},
   "outputs": [],
   "source": [
    "df['worldwide_gross'] = df['worldwide_gross'].str.replace(',', '', regex=True).astype(int)"
   ]
  },
  {
   "cell_type": "code",
   "execution_count": 110,
   "id": "1f0f1e64-78f8-4511-92c6-9a642240fa0e",
   "metadata": {},
   "outputs": [],
   "source": [
    "df = df.drop(['total_rev'], axis = 1)"
   ]
  },
  {
   "cell_type": "code",
   "execution_count": 112,
   "id": "a54b7388-db04-4329-b416-2a04bf74f16f",
   "metadata": {},
   "outputs": [],
   "source": [
    "conn = sqlite3.connect('movie_budgets.db')"
   ]
  },
  {
   "cell_type": "code",
   "execution_count": 114,
   "id": "a951bfaf-acda-4188-8afd-a805e9a5294f",
   "metadata": {},
   "outputs": [
    {
     "data": {
      "text/plain": [
       "5782"
      ]
     },
     "execution_count": 114,
     "metadata": {},
     "output_type": "execute_result"
    }
   ],
   "source": [
    "df.to_sql('movie_budgets_table', conn, if_exists='replace', index=False)"
   ]
  },
  {
   "cell_type": "markdown",
   "id": "7b35bc2f-ea96-495d-99b4-c8abf4de383f",
   "metadata": {},
   "source": [
    "The films with the highest returns are animations, drama, sequels, and sci-fi films.\n",
    "They were made between 1997 and 2018."
   ]
  },
  {
   "cell_type": "code",
   "execution_count": 116,
   "id": "c3cc685b-50ad-4f0d-864e-9106d58c7457",
   "metadata": {},
   "outputs": [
    {
     "name": "stdout",
     "output_type": "stream",
     "text": [
      "                                           movie\n",
      "0                                         Avatar\n",
      "1                                        Titanic\n",
      "2           Star Wars Ep. VII: The Force Awakens\n",
      "3                         Avengers: Infinity War\n",
      "4                                 Jurassic World\n",
      "5                                      Furious 7\n",
      "6                                   The Avengers\n",
      "7                        Avengers: Age of Ultron\n",
      "8                                  Black Panther\n",
      "9  Harry Potter and the Deathly Hallows: Part II\n"
     ]
    }
   ],
   "source": [
    "query = '''\n",
    "SELECT movie\n",
    "FROM movie_budgets_table\n",
    "ORDER BY worldwide_gross DESC\n",
    "LIMIT 10\n",
    "\n",
    "'''\n",
    "result = pd.read_sql_query(query, conn)\n",
    "print(result)"
   ]
  },
  {
   "cell_type": "code",
   "execution_count": 145,
   "id": "51aa7539-b07b-42bf-9fcb-72b7a5523dd0",
   "metadata": {},
   "outputs": [
    {
     "name": "stdout",
     "output_type": "stream",
     "text": [
      "                                  movie\n",
      "0  Star Wars Ep. VII: The Force Awakens\n",
      "1                Avengers: Infinity War\n",
      "2                          The Avengers\n",
      "3                        Jurassic World\n",
      "4                         Black Panther\n",
      "5                               Titanic\n",
      "6                         Incredibles 2\n",
      "7          Rogue One: A Star Wars Story\n",
      "8                          Finding Dory\n",
      "9                           Toy Story 3\n"
     ]
    }
   ],
   "source": [
    "query = '''\n",
    "SELECT movie\n",
    "FROM movie_budgets_table\n",
    "WHERE (domestic_gross >= 2*(production_budget))\n",
    "LIMIT 10\n",
    "'''\n",
    "result = pd.read_sql_query(query, conn)\n",
    "print(result)"
   ]
  },
  {
   "cell_type": "markdown",
   "id": "823d24ee-63ef-4bb6-afef-aee95f8cf9d5",
   "metadata": {},
   "source": [
    "A movie is generally considered a financial success if its ROI is at least 1, meaning it made 2x its budget."
   ]
  },
  {
   "cell_type": "markdown",
   "id": "c45241bb-b587-446c-9eeb-9fd3f73b0a98",
   "metadata": {},
   "source": [
    "The above movies that are financially successful are mostly sequels. "
   ]
  },
  {
   "cell_type": "code",
   "execution_count": null,
   "id": "b7ecc53e-f8f5-4075-b16b-f12ce552a219",
   "metadata": {},
   "outputs": [],
   "source": []
  }
 ],
 "metadata": {
  "kernelspec": {
   "display_name": "Python 3 (ipykernel)",
   "language": "python",
   "name": "python3"
  },
  "language_info": {
   "codemirror_mode": {
    "name": "ipython",
    "version": 3
   },
   "file_extension": ".py",
   "mimetype": "text/x-python",
   "name": "python",
   "nbconvert_exporter": "python",
   "pygments_lexer": "ipython3",
   "version": "3.12.4"
  }
 },
 "nbformat": 4,
 "nbformat_minor": 5
}
